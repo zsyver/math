{
  "nbformat": 4,
  "nbformat_minor": 0,
  "metadata": {
    "colab": {
      "name": "fibonacci_fun.ipynb",
      "provenance": [],
      "authorship_tag": "ABX9TyNzxk+EkDY0sCZx2mFZcBD6",
      "include_colab_link": true
    },
    "kernelspec": {
      "name": "python3",
      "display_name": "Python 3"
    },
    "language_info": {
      "name": "python"
    }
  },
  "cells": [
    {
      "cell_type": "markdown",
      "metadata": {
        "id": "view-in-github",
        "colab_type": "text"
      },
      "source": [
        "<a href=\"https://colab.research.google.com/github/zsyver/math/blob/main/fibonacci_fun.ipynb\" target=\"_parent\"><img src=\"https://colab.research.google.com/assets/colab-badge.svg\" alt=\"Open In Colab\"/></a>"
      ]
    },
    {
      "cell_type": "code",
      "execution_count": 1,
      "metadata": {
        "id": "nrYflVKArYCP"
      },
      "outputs": [],
      "source": [
        "import numpy as np\n",
        "import pandas as pd"
      ]
    },
    {
      "cell_type": "code",
      "source": [
        "# The fibonacci sequence is defined as the summation of the sequence of numbers starting from 0. Mathematically it is defined as (F(N - 1) + F(N - 2)).\n",
        "\n",
        "def Fibonacci_Fun(n):\n",
        "  if n < 0:\n",
        "    print(\"Negative input detected.\")\n",
        "  elif n == 0:\n",
        "    return 0\n",
        "  elif n == 1 or n == 2:\n",
        "    return 1\n",
        "  else:\n",
        "    return Fibonacci_Fun(n-1) + Fibonacci_Fun(n-2)\n"
      ],
      "metadata": {
        "id": "t8_1fBeXwGUA"
      },
      "execution_count": 33,
      "outputs": []
    },
    {
      "cell_type": "code",
      "source": [
        "print(Fibonacci_Fun(9))"
      ],
      "metadata": {
        "colab": {
          "base_uri": "https://localhost:8080/"
        },
        "id": "6pjsRbji0XBy",
        "outputId": "9e963cf7-4940-4d99-c50f-4a5da330cc99"
      },
      "execution_count": 35,
      "outputs": [
        {
          "output_type": "stream",
          "name": "stdout",
          "text": [
            "34\n"
          ]
        }
      ]
    },
    {
      "cell_type": "code",
      "source": [
        ""
      ],
      "metadata": {
        "id": "wSAaFRq_3xT8"
      },
      "execution_count": null,
      "outputs": []
    }
  ]
}